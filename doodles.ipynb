{
  "nbformat": 4,
  "nbformat_minor": 0,
  "metadata": {
    "colab": {
      "name": "Untitled4.ipynb",
      "provenance": [],
      "private_outputs": true,
      "authorship_tag": "ABX9TyPDyoAxzW68S6V5L75cjERR",
      "include_colab_link": true
    },
    "kernelspec": {
      "name": "python3",
      "display_name": "Python 3"
    },
    "language_info": {
      "name": "python"
    }
  },
  "cells": [
    {
      "cell_type": "markdown",
      "metadata": {
        "id": "view-in-github",
        "colab_type": "text"
      },
      "source": [
        "<a href=\"https://colab.research.google.com/github/beephsupreme/notebooks/blob/main/doodles.ipynb\" target=\"_parent\"><img src=\"https://colab.research.google.com/assets/colab-badge.svg\" alt=\"Open In Colab\"/></a>"
      ]
    },
    {
      "cell_type": "code",
      "execution_count": null,
      "metadata": {
        "id": "QTgmUPDRRe4D"
      },
      "outputs": [],
      "source": [
        "import numpy as np\n",
        "import pandas as pd\n",
        "import torch\n",
        "\n"
      ]
    },
    {
      "cell_type": "code",
      "source": [
        "I = torch.tensor([[2.0, 1.0, 2.0], [-2.0,2.0,1.0],[1.0,2.0,-2.0]])"
      ],
      "metadata": {
        "id": "_wnpfjJAV4sd"
      },
      "execution_count": null,
      "outputs": []
    },
    {
      "cell_type": "code",
      "source": [
        "I"
      ],
      "metadata": {
        "id": "ifbGe4N2WTgS"
      },
      "execution_count": null,
      "outputs": []
    },
    {
      "cell_type": "code",
      "source": [
        "col_1 = I[:, 0]\n",
        "col_2 = I[:, 1]\n",
        "col_3 = I[:, 2]"
      ],
      "metadata": {
        "id": "F2AuxqnWXYiZ"
      },
      "execution_count": null,
      "outputs": []
    },
    {
      "cell_type": "code",
      "source": [
        "torch.dot(col_1, col_2)"
      ],
      "metadata": {
        "id": "fEIazC6xXZXy"
      },
      "execution_count": null,
      "outputs": []
    },
    {
      "cell_type": "code",
      "source": [
        "torch.norm(col_3)"
      ],
      "metadata": {
        "id": "9enMZZffo6ty"
      },
      "execution_count": null,
      "outputs": []
    },
    {
      "cell_type": "code",
      "source": [
        "torch.matmul(I.T, I)"
      ],
      "metadata": {
        "id": "wjBDpcqspN-l"
      },
      "execution_count": null,
      "outputs": []
    },
    {
      "cell_type": "code",
      "source": [
        ""
      ],
      "metadata": {
        "id": "7Bl7andZrMl6"
      },
      "execution_count": null,
      "outputs": []
    }
  ]
}